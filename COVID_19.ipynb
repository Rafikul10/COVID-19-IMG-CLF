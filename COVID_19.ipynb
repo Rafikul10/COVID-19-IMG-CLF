{
  "nbformat": 4,
  "nbformat_minor": 0,
  "metadata": {
    "colab": {
      "provenance": [],
      "authorship_tag": "ABX9TyPc+xvDUpmIOMmOuUWjVPkt",
      "include_colab_link": true
    },
    "kernelspec": {
      "name": "python3",
      "display_name": "Python 3"
    },
    "language_info": {
      "name": "python"
    },
    "accelerator": "GPU"
  },
  "cells": [
    {
      "cell_type": "markdown",
      "metadata": {
        "id": "view-in-github",
        "colab_type": "text"
      },
      "source": [
        "<a href=\"https://colab.research.google.com/github/Rafikul10/COVID-19/blob/main/COVID_19.ipynb\" target=\"_parent\"><img src=\"https://colab.research.google.com/assets/colab-badge.svg\" alt=\"Open In Colab\"/></a>"
      ]
    },
    {
      "cell_type": "code",
      "source": [
        "from google.colab import drive\n",
        "drive.mount('/content/drive')"
      ],
      "metadata": {
        "colab": {
          "base_uri": "https://localhost:8080/"
        },
        "id": "MKILJoTPSvNa",
        "outputId": "bfa3e7c9-149c-431a-b860-924a79ffdb84"
      },
      "execution_count": 58,
      "outputs": [
        {
          "output_type": "stream",
          "name": "stdout",
          "text": [
            "Drive already mounted at /content/drive; to attempt to forcibly remount, call drive.mount(\"/content/drive\", force_remount=True).\n"
          ]
        }
      ]
    },
    {
      "cell_type": "code",
      "source": [],
      "metadata": {
        "id": "kj8mfnLTkDBI"
      },
      "execution_count": 58,
      "outputs": []
    },
    {
      "cell_type": "code",
      "source": [
        "#Importing essential libaries\n",
        "import numpy as np\n",
        "import pandas as pd\n",
        "import seaborn as sns\n",
        "import matplotlib.pyplot as plt\n",
        "%matplotlib inline\n",
        "import pickle "
      ],
      "metadata": {
        "id": "jB9z3Y-FS5Gi"
      },
      "execution_count": 59,
      "outputs": []
    },
    {
      "cell_type": "code",
      "source": [
        "from keras.layers import Input,Dense,Flatten,Conv2D,Lambda\n",
        "from keras.models import Model\n",
        "from keras.preprocessing import image\n",
        "from keras.preprocessing.image import ImageDataGenerator\n",
        "from keras.applications.vgg19 import VGG19\n",
        "from keras.models import Sequential\n",
        "from glob import glob\n",
        "from keras.layers import MaxPooling1D\n",
        "from keras.applications.vgg16 import preprocess_input"
      ],
      "metadata": {
        "id": "Ms90sl0-Up3M"
      },
      "execution_count": 60,
      "outputs": []
    },
    {
      "cell_type": "code",
      "source": [
        "#Importing the data\n",
        "IMAGE_SIZE=[224,224]\n",
        "train_path=\"/content/drive/MyDrive/ColabNotebooks/COVID-19/COVID-19(Img)/Covid19-dataset/train\"\n",
        "test_path=\"/content/drive/MyDrive/ColabNotebooks/COVID-19/COVID-19(Img)/Covid19-dataset/test\""
      ],
      "metadata": {
        "id": "ksGGsbmKVCD9"
      },
      "execution_count": 61,
      "outputs": []
    },
    {
      "cell_type": "code",
      "source": [
        "vgg19=VGG19(input_shape=IMAGE_SIZE +[3],weights=\"imagenet\",include_top=False)"
      ],
      "metadata": {
        "colab": {
          "base_uri": "https://localhost:8080/"
        },
        "id": "t_9fHdJyVrCO",
        "outputId": "626d05ab-3b7b-451a-d079-5fc0aaf02551"
      },
      "execution_count": 62,
      "outputs": [
        {
          "output_type": "stream",
          "name": "stdout",
          "text": [
            "Downloading data from https://storage.googleapis.com/tensorflow/keras-applications/vgg19/vgg19_weights_tf_dim_ordering_tf_kernels_notop.h5\n",
            "80142336/80134624 [==============================] - 1s 0us/step\n",
            "80150528/80134624 [==============================] - 1s 0us/step\n"
          ]
        }
      ]
    },
    {
      "cell_type": "code",
      "source": [
        "for layer in vgg19.layers:\n",
        "  layer.trainable=False"
      ],
      "metadata": {
        "id": "PobfUCdPZp2l"
      },
      "execution_count": 63,
      "outputs": []
    },
    {
      "cell_type": "code",
      "source": [
        "train_data = glob(\"/content/drive/MyDrive/ColabNotebooks/COVID-19/COVID-19(Img)/Covid19-dataset/train/*\")"
      ],
      "metadata": {
        "id": "JZ0Srrlwaw10"
      },
      "execution_count": 64,
      "outputs": []
    },
    {
      "cell_type": "code",
      "source": [
        "train_data"
      ],
      "metadata": {
        "colab": {
          "base_uri": "https://localhost:8080/"
        },
        "id": "RDLCXVmzcU3Z",
        "outputId": "bbf9fdef-e080-4acc-9ed5-0b74900b0de8"
      },
      "execution_count": 65,
      "outputs": [
        {
          "output_type": "execute_result",
          "data": {
            "text/plain": [
              "['/content/drive/MyDrive/ColabNotebooks/COVID-19/COVID-19(Img)/Covid19-dataset/train/Viral Pneumonia',\n",
              " '/content/drive/MyDrive/ColabNotebooks/COVID-19/COVID-19(Img)/Covid19-dataset/train/Covid',\n",
              " '/content/drive/MyDrive/ColabNotebooks/COVID-19/COVID-19(Img)/Covid19-dataset/train/Normal']"
            ]
          },
          "metadata": {},
          "execution_count": 65
        }
      ]
    },
    {
      "cell_type": "code",
      "source": [
        "x=Flatten()(vgg19.output)"
      ],
      "metadata": {
        "id": "7OI0wqLNtJhl"
      },
      "execution_count": 66,
      "outputs": []
    },
    {
      "cell_type": "code",
      "source": [
        "prediction=Dense(len(train_data),activation=\"softmax\")(x)"
      ],
      "metadata": {
        "id": "xOenHGvktJfT"
      },
      "execution_count": 67,
      "outputs": []
    },
    {
      "cell_type": "code",
      "source": [
        "model= Model(inputs=vgg19.input,outputs=prediction)"
      ],
      "metadata": {
        "id": "Qs-SerdbtJcv"
      },
      "execution_count": 68,
      "outputs": []
    },
    {
      "cell_type": "code",
      "source": [
        "model.summary()"
      ],
      "metadata": {
        "colab": {
          "base_uri": "https://localhost:8080/"
        },
        "id": "X82wg2oNtJZw",
        "outputId": "a1389fcb-50f0-4144-d210-0a8dd7d0b466"
      },
      "execution_count": 69,
      "outputs": [
        {
          "output_type": "stream",
          "name": "stdout",
          "text": [
            "Model: \"model\"\n",
            "_________________________________________________________________\n",
            " Layer (type)                Output Shape              Param #   \n",
            "=================================================================\n",
            " input_1 (InputLayer)        [(None, 224, 224, 3)]     0         \n",
            "                                                                 \n",
            " block1_conv1 (Conv2D)       (None, 224, 224, 64)      1792      \n",
            "                                                                 \n",
            " block1_conv2 (Conv2D)       (None, 224, 224, 64)      36928     \n",
            "                                                                 \n",
            " block1_pool (MaxPooling2D)  (None, 112, 112, 64)      0         \n",
            "                                                                 \n",
            " block2_conv1 (Conv2D)       (None, 112, 112, 128)     73856     \n",
            "                                                                 \n",
            " block2_conv2 (Conv2D)       (None, 112, 112, 128)     147584    \n",
            "                                                                 \n",
            " block2_pool (MaxPooling2D)  (None, 56, 56, 128)       0         \n",
            "                                                                 \n",
            " block3_conv1 (Conv2D)       (None, 56, 56, 256)       295168    \n",
            "                                                                 \n",
            " block3_conv2 (Conv2D)       (None, 56, 56, 256)       590080    \n",
            "                                                                 \n",
            " block3_conv3 (Conv2D)       (None, 56, 56, 256)       590080    \n",
            "                                                                 \n",
            " block3_conv4 (Conv2D)       (None, 56, 56, 256)       590080    \n",
            "                                                                 \n",
            " block3_pool (MaxPooling2D)  (None, 28, 28, 256)       0         \n",
            "                                                                 \n",
            " block4_conv1 (Conv2D)       (None, 28, 28, 512)       1180160   \n",
            "                                                                 \n",
            " block4_conv2 (Conv2D)       (None, 28, 28, 512)       2359808   \n",
            "                                                                 \n",
            " block4_conv3 (Conv2D)       (None, 28, 28, 512)       2359808   \n",
            "                                                                 \n",
            " block4_conv4 (Conv2D)       (None, 28, 28, 512)       2359808   \n",
            "                                                                 \n",
            " block4_pool (MaxPooling2D)  (None, 14, 14, 512)       0         \n",
            "                                                                 \n",
            " block5_conv1 (Conv2D)       (None, 14, 14, 512)       2359808   \n",
            "                                                                 \n",
            " block5_conv2 (Conv2D)       (None, 14, 14, 512)       2359808   \n",
            "                                                                 \n",
            " block5_conv3 (Conv2D)       (None, 14, 14, 512)       2359808   \n",
            "                                                                 \n",
            " block5_conv4 (Conv2D)       (None, 14, 14, 512)       2359808   \n",
            "                                                                 \n",
            " block5_pool (MaxPooling2D)  (None, 7, 7, 512)         0         \n",
            "                                                                 \n",
            " flatten (Flatten)           (None, 25088)             0         \n",
            "                                                                 \n",
            " dense (Dense)               (None, 3)                 75267     \n",
            "                                                                 \n",
            "=================================================================\n",
            "Total params: 20,099,651\n",
            "Trainable params: 75,267\n",
            "Non-trainable params: 20,024,384\n",
            "_________________________________________________________________\n"
          ]
        }
      ]
    },
    {
      "cell_type": "code",
      "source": [
        "model.compile(\n",
        "  loss='categorical_crossentropy',\n",
        "  optimizer='adam',\n",
        "  metrics=['accuracy']\n",
        ")"
      ],
      "metadata": {
        "id": "2idNH302tJRg"
      },
      "execution_count": 70,
      "outputs": []
    },
    {
      "cell_type": "code",
      "source": [
        "from keras.preprocessing.image import ImageDataGenerator"
      ],
      "metadata": {
        "id": "KNjI8h6OuYS3"
      },
      "execution_count": 71,
      "outputs": []
    },
    {
      "cell_type": "code",
      "source": [
        "train_datagen = ImageDataGenerator(\n",
        "    rescale=1./255,\n",
        "    horizontal_flip=True,\n",
        "    shear_range=0.2,\n",
        "    rotation_range=40,\n",
        "    zoom_range=0.2,\n",
        "\n",
        ")"
      ],
      "metadata": {
        "id": "bd5iCj6juYQf"
      },
      "execution_count": 72,
      "outputs": []
    },
    {
      "cell_type": "code",
      "source": [
        "test_datagen = ImageDataGenerator(\n",
        "    rescale=1./255\n",
        ")"
      ],
      "metadata": {
        "id": "W__HQbiXuYNd"
      },
      "execution_count": 73,
      "outputs": []
    },
    {
      "cell_type": "code",
      "source": [
        "training_set =train_datagen.flow_from_directory(\"/content/drive/MyDrive/ColabNotebooks/COVID-19/COVID-19(Img)/Covid19-dataset/train\",\n",
        "                                                target_size=(224,224),\n",
        "                                                batch_size=16,\n",
        "                                                class_mode=\"categorical\")"
      ],
      "metadata": {
        "colab": {
          "base_uri": "https://localhost:8080/"
        },
        "id": "d208p_rxuYJv",
        "outputId": "16c6a82b-c16b-43fc-d1e7-028fe10e9f26"
      },
      "execution_count": 74,
      "outputs": [
        {
          "output_type": "stream",
          "name": "stdout",
          "text": [
            "Found 251 images belonging to 3 classes.\n"
          ]
        }
      ]
    },
    {
      "cell_type": "code",
      "source": [
        "testing_set=test_datagen.flow_from_directory(\"/content/drive/MyDrive/ColabNotebooks/COVID-19/COVID-19(Img)/Covid19-dataset/test\",\n",
        "                                             target_size=(224,224),\n",
        "                                             batch_size=16,\n",
        "                                             class_mode=\"categorical\")"
      ],
      "metadata": {
        "colab": {
          "base_uri": "https://localhost:8080/"
        },
        "id": "8cQevOgIv-r-",
        "outputId": "a21480c3-0997-423a-d1dc-93c1b8b17195"
      },
      "execution_count": 75,
      "outputs": [
        {
          "output_type": "stream",
          "name": "stdout",
          "text": [
            "Found 66 images belonging to 3 classes.\n"
          ]
        }
      ]
    },
    {
      "cell_type": "code",
      "source": [
        "r= model.fit_generator(training_set,\n",
        "                       validation_data=testing_set,\n",
        "                       epochs=50,\n",
        "                       steps_per_epoch=len(training_set),\n",
        "                       validation_steps=len(testing_set)\n",
        "                       )"
      ],
      "metadata": {
        "colab": {
          "base_uri": "https://localhost:8080/"
        },
        "id": "jJCkhgEhv-ou",
        "outputId": "dec27d23-0efe-481e-dd1b-35a1b216989f"
      },
      "execution_count": 76,
      "outputs": [
        {
          "output_type": "stream",
          "name": "stderr",
          "text": [
            "/usr/local/lib/python3.7/dist-packages/ipykernel_launcher.py:5: UserWarning: `Model.fit_generator` is deprecated and will be removed in a future version. Please use `Model.fit`, which supports generators.\n",
            "  \"\"\"\n"
          ]
        },
        {
          "output_type": "stream",
          "name": "stdout",
          "text": [
            "Epoch 1/50\n",
            "16/16 [==============================] - 243s 15s/step - loss: 1.7759 - accuracy: 0.4821 - val_loss: 0.7326 - val_accuracy: 0.7424\n",
            "Epoch 2/50\n",
            "16/16 [==============================] - 218s 14s/step - loss: 0.4844 - accuracy: 0.8367 - val_loss: 0.3518 - val_accuracy: 0.8485\n",
            "Epoch 3/50\n",
            "16/16 [==============================] - 219s 14s/step - loss: 0.3734 - accuracy: 0.8805 - val_loss: 0.2189 - val_accuracy: 0.8939\n",
            "Epoch 4/50\n",
            "16/16 [==============================] - 219s 14s/step - loss: 0.2832 - accuracy: 0.8884 - val_loss: 0.2327 - val_accuracy: 0.8939\n",
            "Epoch 5/50\n",
            "16/16 [==============================] - 222s 14s/step - loss: 0.2122 - accuracy: 0.9203 - val_loss: 0.2888 - val_accuracy: 0.8788\n",
            "Epoch 6/50\n",
            "16/16 [==============================] - 220s 14s/step - loss: 0.1972 - accuracy: 0.9363 - val_loss: 0.1257 - val_accuracy: 0.9394\n",
            "Epoch 7/50\n",
            "16/16 [==============================] - 218s 14s/step - loss: 0.2081 - accuracy: 0.9124 - val_loss: 0.1443 - val_accuracy: 0.9697\n",
            "Epoch 8/50\n",
            "16/16 [==============================] - 219s 14s/step - loss: 0.1260 - accuracy: 0.9602 - val_loss: 0.1228 - val_accuracy: 0.9697\n",
            "Epoch 9/50\n",
            "16/16 [==============================] - 218s 14s/step - loss: 0.1237 - accuracy: 0.9641 - val_loss: 0.1054 - val_accuracy: 0.9545\n",
            "Epoch 10/50\n",
            "16/16 [==============================] - 218s 14s/step - loss: 0.1134 - accuracy: 0.9721 - val_loss: 0.1151 - val_accuracy: 0.9242\n",
            "Epoch 11/50\n",
            "16/16 [==============================] - 218s 14s/step - loss: 0.1373 - accuracy: 0.9562 - val_loss: 0.1036 - val_accuracy: 0.9394\n",
            "Epoch 12/50\n",
            "16/16 [==============================] - 223s 14s/step - loss: 0.1360 - accuracy: 0.9482 - val_loss: 0.2257 - val_accuracy: 0.8939\n",
            "Epoch 13/50\n",
            "16/16 [==============================] - 221s 14s/step - loss: 0.1082 - accuracy: 0.9721 - val_loss: 0.1402 - val_accuracy: 0.9545\n",
            "Epoch 14/50\n",
            "16/16 [==============================] - 221s 14s/step - loss: 0.0811 - accuracy: 0.9841 - val_loss: 0.1212 - val_accuracy: 0.9697\n",
            "Epoch 15/50\n",
            "16/16 [==============================] - 220s 14s/step - loss: 0.0980 - accuracy: 0.9721 - val_loss: 0.1176 - val_accuracy: 0.9545\n",
            "Epoch 16/50\n",
            "16/16 [==============================] - 224s 14s/step - loss: 0.0750 - accuracy: 0.9880 - val_loss: 0.0995 - val_accuracy: 0.9545\n",
            "Epoch 17/50\n",
            "16/16 [==============================] - 221s 14s/step - loss: 0.0986 - accuracy: 0.9721 - val_loss: 0.1189 - val_accuracy: 0.9545\n",
            "Epoch 18/50\n",
            "16/16 [==============================] - 220s 14s/step - loss: 0.0688 - accuracy: 0.9841 - val_loss: 0.1070 - val_accuracy: 0.9545\n",
            "Epoch 19/50\n",
            "16/16 [==============================] - 220s 14s/step - loss: 0.0696 - accuracy: 0.9761 - val_loss: 0.1381 - val_accuracy: 0.9394\n",
            "Epoch 20/50\n",
            "16/16 [==============================] - 218s 14s/step - loss: 0.0628 - accuracy: 0.9801 - val_loss: 0.1028 - val_accuracy: 0.9545\n",
            "Epoch 21/50\n",
            "16/16 [==============================] - 220s 14s/step - loss: 0.0852 - accuracy: 0.9721 - val_loss: 0.0934 - val_accuracy: 0.9697\n",
            "Epoch 22/50\n",
            "16/16 [==============================] - 219s 14s/step - loss: 0.0746 - accuracy: 0.9841 - val_loss: 0.1031 - val_accuracy: 0.9697\n",
            "Epoch 23/50\n",
            "16/16 [==============================] - 219s 14s/step - loss: 0.0481 - accuracy: 0.9920 - val_loss: 0.1069 - val_accuracy: 0.9545\n",
            "Epoch 24/50\n",
            "16/16 [==============================] - 217s 14s/step - loss: 0.0602 - accuracy: 0.9801 - val_loss: 0.0833 - val_accuracy: 0.9848\n",
            "Epoch 25/50\n",
            "16/16 [==============================] - 216s 14s/step - loss: 0.0508 - accuracy: 0.9841 - val_loss: 0.0819 - val_accuracy: 0.9848\n",
            "Epoch 26/50\n",
            "16/16 [==============================] - 217s 14s/step - loss: 0.0540 - accuracy: 0.9841 - val_loss: 0.3015 - val_accuracy: 0.8939\n",
            "Epoch 27/50\n",
            "16/16 [==============================] - 217s 14s/step - loss: 0.0636 - accuracy: 0.9880 - val_loss: 0.1165 - val_accuracy: 0.9545\n",
            "Epoch 28/50\n",
            "16/16 [==============================] - 217s 14s/step - loss: 0.0466 - accuracy: 0.9880 - val_loss: 0.1372 - val_accuracy: 0.9394\n",
            "Epoch 29/50\n",
            "16/16 [==============================] - 217s 14s/step - loss: 0.0483 - accuracy: 0.9920 - val_loss: 0.0772 - val_accuracy: 0.9848\n",
            "Epoch 30/50\n",
            "16/16 [==============================] - 222s 14s/step - loss: 0.0406 - accuracy: 0.9960 - val_loss: 0.0924 - val_accuracy: 0.9242\n",
            "Epoch 31/50\n",
            "16/16 [==============================] - 219s 14s/step - loss: 0.0653 - accuracy: 0.9721 - val_loss: 0.0915 - val_accuracy: 0.9242\n",
            "Epoch 32/50\n",
            "16/16 [==============================] - 221s 14s/step - loss: 0.0921 - accuracy: 0.9641 - val_loss: 0.3038 - val_accuracy: 0.8939\n",
            "Epoch 33/50\n",
            "16/16 [==============================] - 222s 14s/step - loss: 0.1717 - accuracy: 0.9363 - val_loss: 0.3345 - val_accuracy: 0.8939\n",
            "Epoch 34/50\n",
            "16/16 [==============================] - 218s 14s/step - loss: 0.3269 - accuracy: 0.8884 - val_loss: 0.1405 - val_accuracy: 0.9242\n",
            "Epoch 35/50\n",
            "16/16 [==============================] - 215s 14s/step - loss: 0.0803 - accuracy: 0.9761 - val_loss: 0.2545 - val_accuracy: 0.9242\n",
            "Epoch 36/50\n",
            "16/16 [==============================] - 217s 14s/step - loss: 0.0529 - accuracy: 0.9761 - val_loss: 0.1101 - val_accuracy: 0.9545\n",
            "Epoch 37/50\n",
            "16/16 [==============================] - 218s 14s/step - loss: 0.0355 - accuracy: 0.9880 - val_loss: 0.1123 - val_accuracy: 0.9545\n",
            "Epoch 38/50\n",
            "16/16 [==============================] - 219s 14s/step - loss: 0.0399 - accuracy: 0.9761 - val_loss: 0.1587 - val_accuracy: 0.9545\n",
            "Epoch 39/50\n",
            "16/16 [==============================] - 218s 14s/step - loss: 0.0683 - accuracy: 0.9721 - val_loss: 0.0845 - val_accuracy: 0.9697\n",
            "Epoch 40/50\n",
            "16/16 [==============================] - 218s 14s/step - loss: 0.0361 - accuracy: 0.9880 - val_loss: 0.0982 - val_accuracy: 0.9545\n",
            "Epoch 41/50\n",
            "16/16 [==============================] - 216s 14s/step - loss: 0.0378 - accuracy: 0.9841 - val_loss: 0.1866 - val_accuracy: 0.9242\n",
            "Epoch 42/50\n",
            "16/16 [==============================] - 217s 14s/step - loss: 0.0396 - accuracy: 0.9920 - val_loss: 0.1227 - val_accuracy: 0.9394\n",
            "Epoch 43/50\n",
            "16/16 [==============================] - 219s 14s/step - loss: 0.0456 - accuracy: 0.9841 - val_loss: 0.1624 - val_accuracy: 0.9394\n",
            "Epoch 44/50\n",
            "16/16 [==============================] - 216s 14s/step - loss: 0.0303 - accuracy: 0.9960 - val_loss: 0.0960 - val_accuracy: 0.9545\n",
            "Epoch 45/50\n",
            "16/16 [==============================] - 217s 14s/step - loss: 0.0457 - accuracy: 0.9880 - val_loss: 0.1630 - val_accuracy: 0.9394\n",
            "Epoch 46/50\n",
            "16/16 [==============================] - 218s 14s/step - loss: 0.0434 - accuracy: 0.9841 - val_loss: 0.1314 - val_accuracy: 0.9394\n",
            "Epoch 47/50\n",
            "16/16 [==============================] - 217s 14s/step - loss: 0.0193 - accuracy: 0.9920 - val_loss: 0.0903 - val_accuracy: 0.9545\n",
            "Epoch 48/50\n",
            "16/16 [==============================] - 216s 14s/step - loss: 0.0197 - accuracy: 0.9960 - val_loss: 0.1154 - val_accuracy: 0.9545\n",
            "Epoch 49/50\n",
            "16/16 [==============================] - 216s 14s/step - loss: 0.0300 - accuracy: 0.9880 - val_loss: 0.1625 - val_accuracy: 0.9394\n",
            "Epoch 50/50\n",
            "16/16 [==============================] - 215s 14s/step - loss: 0.0169 - accuracy: 0.9960 - val_loss: 0.1009 - val_accuracy: 0.9394\n"
          ]
        }
      ]
    },
    {
      "cell_type": "code",
      "source": [
        "#save it as a h5 file\n",
        "from keras.models import load_model\n",
        "model.save(\"covid_model.h5\")"
      ],
      "metadata": {
        "id": "3hve67C3v-ld"
      },
      "execution_count": 77,
      "outputs": []
    },
    {
      "cell_type": "code",
      "source": [
        "prediction=model.predict(testing_set)"
      ],
      "metadata": {
        "id": "fn5r02zEv-aN"
      },
      "execution_count": 78,
      "outputs": []
    },
    {
      "cell_type": "code",
      "source": [
        "prediction=np.argmax(prediction,axis=1)"
      ],
      "metadata": {
        "id": "14wqLWmRxoHA"
      },
      "execution_count": 79,
      "outputs": []
    },
    {
      "cell_type": "code",
      "source": [
        "prediction"
      ],
      "metadata": {
        "colab": {
          "base_uri": "https://localhost:8080/"
        },
        "id": "BsP_o4CrxoEF",
        "outputId": "41085017-cf64-4993-f697-03308a368678"
      },
      "execution_count": 80,
      "outputs": [
        {
          "output_type": "execute_result",
          "data": {
            "text/plain": [
              "array([1, 1, 1, 2, 0, 2, 0, 0, 0, 0, 0, 2, 2, 2, 0, 2, 2, 1, 1, 0, 2, 1,\n",
              "       1, 1, 0, 2, 1, 0, 1, 2, 0, 1, 1, 0, 2, 1, 0, 2, 0, 0, 2, 2, 2, 0,\n",
              "       0, 0, 0, 0, 2, 2, 0, 2, 1, 1, 1, 0, 2, 2, 1, 0, 0, 1, 2, 0, 2, 0])"
            ]
          },
          "metadata": {},
          "execution_count": 80
        }
      ]
    },
    {
      "cell_type": "code",
      "source": [
        "from keras.models import load_model\n",
        "from keras.preprocessing.image import image"
      ],
      "metadata": {
        "id": "1_UXmsISxoBT"
      },
      "execution_count": 81,
      "outputs": []
    },
    {
      "cell_type": "code",
      "source": [
        "model=load_model(\"covid_model.h5\")"
      ],
      "metadata": {
        "id": "w-JeEeqNxn-E"
      },
      "execution_count": 82,
      "outputs": []
    },
    {
      "cell_type": "code",
      "source": [
        "img=image.load_img(\"/content/drive/MyDrive/ColabNotebooks/COVID-19/COVID-19(Img)/Covid19-dataset/test/Viral Pneumonia/0103.jpeg\",target_size=(224,224))"
      ],
      "metadata": {
        "id": "I9GYbD2Rxn6m"
      },
      "execution_count": 129,
      "outputs": []
    },
    {
      "cell_type": "code",
      "source": [
        "x=image.img_to_array(img)"
      ],
      "metadata": {
        "id": "vVKGm_M-y6CR"
      },
      "execution_count": 130,
      "outputs": []
    },
    {
      "cell_type": "code",
      "source": [
        "x.shape"
      ],
      "metadata": {
        "colab": {
          "base_uri": "https://localhost:8080/"
        },
        "id": "eDP63yHhy6AF",
        "outputId": "fdbde64b-7a6f-4f6f-c84a-c37c54d8e28c"
      },
      "execution_count": 131,
      "outputs": [
        {
          "output_type": "execute_result",
          "data": {
            "text/plain": [
              "(224, 224, 3)"
            ]
          },
          "metadata": {},
          "execution_count": 131
        }
      ]
    },
    {
      "cell_type": "code",
      "source": [
        "x= x/255"
      ],
      "metadata": {
        "id": "m6Q6ElQoy59O"
      },
      "execution_count": 132,
      "outputs": []
    },
    {
      "cell_type": "code",
      "source": [
        "x=np.expand_dims(x,axis=0)\n",
        "img_data=preprocess_input(x)\n",
        "img_data.shape\n"
      ],
      "metadata": {
        "colab": {
          "base_uri": "https://localhost:8080/"
        },
        "id": "dS0eoFMGy53r",
        "outputId": "f0d092bc-942d-4d25-ea59-fa262c408d10"
      },
      "execution_count": 133,
      "outputs": [
        {
          "output_type": "execute_result",
          "data": {
            "text/plain": [
              "(1, 224, 224, 3)"
            ]
          },
          "metadata": {},
          "execution_count": 133
        }
      ]
    },
    {
      "cell_type": "code",
      "source": [
        "model.predict(img_data)"
      ],
      "metadata": {
        "colab": {
          "base_uri": "https://localhost:8080/"
        },
        "id": "TqwQcdQgy508",
        "outputId": "78d3b729-056a-4e28-97ca-ab73b983ad1b"
      },
      "execution_count": 134,
      "outputs": [
        {
          "output_type": "execute_result",
          "data": {
            "text/plain": [
              "array([[0.9644621 , 0.03041307, 0.00512483]], dtype=float32)"
            ]
          },
          "metadata": {},
          "execution_count": 134
        }
      ]
    },
    {
      "cell_type": "code",
      "source": [
        "a=np.argmax(model.predict(img_data), axis=1)"
      ],
      "metadata": {
        "id": "ZAg-pW-cy5wN"
      },
      "execution_count": 135,
      "outputs": []
    },
    {
      "cell_type": "code",
      "source": [
        "a"
      ],
      "metadata": {
        "colab": {
          "base_uri": "https://localhost:8080/"
        },
        "id": "EToLSO-Snoug",
        "outputId": "df063ba6-fe7a-4a31-ec1d-3d5ae3d33efc"
      },
      "execution_count": 136,
      "outputs": [
        {
          "output_type": "execute_result",
          "data": {
            "text/plain": [
              "array([0])"
            ]
          },
          "metadata": {},
          "execution_count": 136
        }
      ]
    },
    {
      "cell_type": "code",
      "source": [
        "if(a==0):\n",
        "    print(\"Normal\")\n",
        "elif(a==2):\n",
        "  print(\"COVID\")    \n",
        "else:\n",
        "    print(\"Viral pneumonia\")"
      ],
      "metadata": {
        "colab": {
          "base_uri": "https://localhost:8080/"
        },
        "id": "UZkS7hzKllzC",
        "outputId": "9dfc2f22-8739-4630-f4b2-591ecf84f931"
      },
      "execution_count": 119,
      "outputs": [
        {
          "output_type": "stream",
          "name": "stdout",
          "text": [
            "covis\n"
          ]
        }
      ]
    },
    {
      "cell_type": "code",
      "source": [],
      "metadata": {
        "id": "Dfsm9FrxlmV0"
      },
      "execution_count": null,
      "outputs": []
    },
    {
      "cell_type": "code",
      "source": [
        "### Create Model from scratch using CNN\n",
        "#model=Sequential()\n",
        "#model.add(Conv2D(filters=20,kernel_size=2,padding=\"same\",activation=\"relu\",input_shape=(224,224,1)))\n",
        "#model.add(MaxPooling1D(pool_size=2))\n",
        "#model.add(Conv2D(filters=40,kernel_size=2,padding=\"same\",activation =\"relu\"))\n",
        "#model.add(MaxPooling1D(pool_size=2))\n",
        "#model.add(Conv2D(filters=80,kernel_size=2,padding=\"same\",activation=\"relu\"))\n",
        "#model.add(MaxPooling1D(pool_size=2))\n",
        "#model.add(Flatten())\n",
        "#model.add(Dense(500,activation=\"relu\"))\n",
        "#model.add(Dense(2,activation=\"softmax\"))\n",
        "#model.summary()"
      ],
      "metadata": {
        "id": "1Fj9jQWwc_p_"
      },
      "execution_count": null,
      "outputs": []
    }
  ]
}